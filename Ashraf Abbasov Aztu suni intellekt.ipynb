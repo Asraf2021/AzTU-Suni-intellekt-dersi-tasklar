{
 "cells": [
  {
   "cell_type": "code",
   "execution_count": 25,
   "id": "bdd60a11",
   "metadata": {},
   "outputs": [],
   "source": [
    "#Sprint_1a_task"
   ]
  },
  {
   "cell_type": "markdown",
   "id": "0716c390",
   "metadata": {},
   "source": [
    "### Sprint_1a_task"
   ]
  },
  {
   "cell_type": "code",
   "execution_count": 26,
   "id": "088deaf3",
   "metadata": {},
   "outputs": [
    {
     "name": "stdout",
     "output_type": "stream",
     "text": [
      "Type is : <class 'str'>\n"
     ]
    }
   ],
   "source": [
    "#1) 123 rəqəmini string/character ə çevirin və tipini yoxlayın.\n",
    "\n",
    "Number = 123\n",
    "y = str(Number)\n",
    "print(\"Type is :\" ,type(y))"
   ]
  },
  {
   "cell_type": "code",
   "execution_count": 27,
   "id": "97633b9b",
   "metadata": {},
   "outputs": [
    {
     "name": "stdout",
     "output_type": "stream",
     "text": [
      "Type is : <class 'int'>\n"
     ]
    },
    {
     "data": {
      "text/plain": [
       "19"
      ]
     },
     "execution_count": 27,
     "metadata": {},
     "output_type": "execute_result"
    }
   ],
   "source": [
    "#2) 19.99 dəyərini tam ədədə çevirin və nəticəni çap edin.\n",
    "\n",
    "Number = 19.99\n",
    "Int_Number = int(Number)\n",
    "print(\"Type is :\" ,type(Int_Number))\n",
    "Int_Number"
   ]
  },
  {
   "cell_type": "code",
   "execution_count": 28,
   "id": "af63b8be",
   "metadata": {},
   "outputs": [
    {
     "name": "stdout",
     "output_type": "stream",
     "text": [
      "250.0\n"
     ]
    }
   ],
   "source": [
    "#3) \"500\" dəyərini numericə çevirin və 2-yə bölüb nəticəni çap edin.\n",
    "\n",
    "Value = \"500\"\n",
    "Numeric_value = int(Value)\n",
    "print(Numeric_value / 2)"
   ]
  },
  {
   "cell_type": "code",
   "execution_count": 29,
   "id": "3a18d7e2",
   "metadata": {},
   "outputs": [
    {
     "name": "stdout",
     "output_type": "stream",
     "text": [
      "True False\n"
     ]
    }
   ],
   "source": [
    "#4) a = 8 və b = 12 yaradın. a < b və a == b şərtlərini yoxlayın, nəticələri çap edin.\n",
    "\n",
    "a,b = 8,12\n",
    "print(a<b,a==b)"
   ]
  },
  {
   "cell_type": "code",
   "execution_count": 30,
   "id": "c73bed9a",
   "metadata": {},
   "outputs": [
    {
     "name": "stdout",
     "output_type": "stream",
     "text": [
      "True True\n"
     ]
    }
   ],
   "source": [
    "#5) x = 5, y = 10, z = 15 yaradın. (x < y) and (y < z) şərtini yoxlayın və nəticəni çap edin.\n",
    "\n",
    "x,y,z = 5,10,15\n",
    "print(x < y,y < z)"
   ]
  },
  {
   "cell_type": "code",
   "execution_count": 31,
   "id": "1db2fdf4",
   "metadata": {},
   "outputs": [
    {
     "name": "stdout",
     "output_type": "stream",
     "text": [
      "6\n",
      "1\n",
      "6.25\n"
     ]
    }
   ],
   "source": [
    "#6) 25-i 4-ə bölün. Tam bölmə, qalıq və adi bölmə nəticələrini çap edin.\n",
    "\n",
    "Tam_bolme = 25//4\n",
    "qalıq_bolme = 25%4\n",
    "adi_bolme = 25/4\n",
    "\n",
    "print(f\"{Tam_bolme}\\n{qalıq_bolme}\\n{adi_bolme}\")"
   ]
  },
  {
   "cell_type": "code",
   "execution_count": 32,
   "id": "e95ba313",
   "metadata": {},
   "outputs": [
    {
     "data": {
      "text/plain": [
       "81"
      ]
     },
     "execution_count": 32,
     "metadata": {},
     "output_type": "execute_result"
    }
   ],
   "source": [
    "#7) 3-ü 4-cü dərəcəyə qaldırın və nəticəni çap edin.\n",
    "\n",
    "Num = 3**4\n",
    "Num"
   ]
  },
  {
   "cell_type": "code",
   "execution_count": 33,
   "id": "6d6cb9a5",
   "metadata": {},
   "outputs": [
    {
     "name": "stdout",
     "output_type": "stream",
     "text": [
      "Type is : <class 'int'>\n"
     ]
    }
   ],
   "source": [
    "#8) qiymet = 75.5 yaradın. Onu tam ədədə çevirin və tipini yoxlayın.\n",
    "\n",
    "qiymet = 75.5\n",
    "Convert_int = int(qiymet)\n",
    "print(\"Type is :\" ,type(Convert_int))"
   ]
  },
  {
   "cell_type": "code",
   "execution_count": 34,
   "id": "aeae90c2",
   "metadata": {},
   "outputs": [
    {
     "name": "stdout",
     "output_type": "stream",
     "text": [
      "True True\n"
     ]
    }
   ],
   "source": [
    "#9) n = 20 yaradın. (n > 10) or (n < 5) və (n > 15) and (n < 25) şərtlərini yoxlayın, nəticələri çap edin.\n",
    "\n",
    "n = 20\n",
    "print((n > 10) or (n < 5),(n > 15) and (n < 25))"
   ]
  },
  {
   "cell_type": "code",
   "execution_count": 36,
   "id": "9c73bd14",
   "metadata": {},
   "outputs": [
    {
     "name": "stdout",
     "output_type": "stream",
     "text": [
      "Type is : <class 'float'>\n",
      "Type is : <class 'int'>\n"
     ]
    }
   ],
   "source": [
    "#10) \"42.8\" dəyərini əvvəl float-a, sonra tam ədədə çevirin və hər addımda tipi yoxlayın.\n",
    "\n",
    "My_value = \"42.8\"\n",
    "Convert_F = float(My_value)\n",
    "print(\"Type is :\" ,type(Convert_F))\n",
    "Convert_I = int(Convert_F)\n",
    "print(\"Type is :\" ,type(Convert_I))"
   ]
  },
  {
   "cell_type": "markdown",
   "id": "105b07d4",
   "metadata": {},
   "source": [
    "### Sprint_1b_task"
   ]
  },
  {
   "cell_type": "code",
   "execution_count": null,
   "id": "69a780d4",
   "metadata": {},
   "outputs": [],
   "source": [
    "#Sprint_1b_task"
   ]
  },
  {
   "cell_type": "code",
   "execution_count": null,
   "id": "4127c2fe",
   "metadata": {},
   "outputs": [
    {
     "name": "stdout",
     "output_type": "stream",
     "text": [
      "Lenght is 11,First letter is P \n"
     ]
    }
   ],
   "source": [
    "#1) s = \"Programming\" yaradın. Uzunluğunu və ilk simvolunu çap edin.\n",
    "\n",
    "s = \"Programming\"\n",
    "print(f\"Lenght is {len(s)},First letter is {s[0]} \")"
   ]
  },
  {
   "cell_type": "code",
   "execution_count": null,
   "id": "a70d48b6",
   "metadata": {},
   "outputs": [
    {
     "data": {
      "text/plain": [
       "'Hello World'"
      ]
     },
     "execution_count": 34,
     "metadata": {},
     "output_type": "execute_result"
    }
   ],
   "source": [
    "#2) s1 = \"Hello\" və s2 = \"World\" yaradın. Onları boşluqla birləşdirin və nəticəni çap edin.\n",
    "\n",
    "s1,s2 = \"Hello\",\"World\"\n",
    "\n",
    "Full_world = s1 + \" \" + s2\n",
    "Full_world\n"
   ]
  },
  {
   "cell_type": "code",
   "execution_count": null,
   "id": "5852dcd4",
   "metadata": {},
   "outputs": [
    {
     "name": "stdout",
     "output_type": "stream",
     "text": [
      "Last letter is n\n"
     ]
    }
   ],
   "source": [
    "#3) text = \"Python\" yaradın. Son simvolunu çap edin.\n",
    "\n",
    "text = \"Python\"\n",
    "\n",
    "print(f\"Last letter is {text[-1]}\")"
   ]
  },
  {
   "cell_type": "code",
   "execution_count": null,
   "id": "7f06b8a6",
   "metadata": {},
   "outputs": [
    {
     "name": "stdout",
     "output_type": "stream",
     "text": [
      "Art\n"
     ]
    }
   ],
   "source": [
    "#4) s = \"Artificial\" yaradın. \"Art\" hissəsini ilə çıxarın və çap edin.\n",
    "\n",
    "#\"ilə çıxarın\" nə deməkdir ? Sual yarımçıq olub\n",
    "\n",
    "s = \"Artificial\"\n",
    "print(s[0:3])"
   ]
  },
  {
   "cell_type": "code",
   "execution_count": null,
   "id": "ff920627",
   "metadata": {},
   "outputs": [
    {
     "name": "stdout",
     "output_type": "stream",
     "text": [
      "edoC\n"
     ]
    }
   ],
   "source": [
    "#5) word = \"Code\" yaradın. Tərsinə çevirin və nəticəni çap edin.\n",
    "\n",
    "word = \"Code\"\n",
    "print(word[::-1])"
   ]
  },
  {
   "cell_type": "code",
   "execution_count": null,
   "id": "7c73a956",
   "metadata": {},
   "outputs": [
    {
     "name": "stdout",
     "output_type": "stream",
     "text": [
      "bdfh\n"
     ]
    }
   ],
   "source": [
    "#6) s = \"abcdefgh\" yaradın. Hər ikinci simvolu alın və çap edin.\n",
    "\n",
    "s = \"abcdefgh\"\n",
    "print(s[1::2])"
   ]
  },
  {
   "cell_type": "code",
   "execution_count": null,
   "id": "995e450e",
   "metadata": {},
   "outputs": [
    {
     "name": "stdout",
     "output_type": "stream",
     "text": [
      "DATA data\n"
     ]
    }
   ],
   "source": [
    "#7) text = \"data\" yaradın. Onu bir sətrlik kodla böyük hərflərə və kiçik hərflərə çevirib çap edin.\n",
    "\n",
    "text = \"data\"\n",
    "print(text.upper(),text.lower())"
   ]
  },
  {
   "cell_type": "code",
   "execution_count": null,
   "id": "962b2f59",
   "metadata": {},
   "outputs": [
    {
     "name": "stdout",
     "output_type": "stream",
     "text": [
      "['Python', 'R', 'Java']\n"
     ]
    }
   ],
   "source": [
    "#8) s = \"Python-R-Java\" yaradın. \"-\" ilə ayırın (split(\"-\")) və nəticəni çap edin.\n",
    "\n",
    "s = \"Python-R-Java\"\n",
    "result = s.split(\"-\")\n",
    "print(result)"
   ]
  },
  {
   "cell_type": "code",
   "execution_count": null,
   "id": "50f90098",
   "metadata": {},
   "outputs": [
    {
     "name": "stdout",
     "output_type": "stream",
     "text": [
      "Ayxan 25 yaşındadır\n"
     ]
    }
   ],
   "source": [
    "#9) ad = \"Ayxan\" və yaş = 25 yaradın. f-string ilə \"Ayxan 25 yaşındadır\" çap edin.\n",
    "\n",
    "\n",
    "ad = \"Ayxan\"\n",
    "yaş = 25\n",
    "print(f\"{ad} {yaş} yaşındadır\")"
   ]
  },
  {
   "cell_type": "code",
   "execution_count": null,
   "id": "6daf16ea",
   "metadata": {},
   "outputs": [
    {
     "data": {
      "text/plain": [
       "'salam dunya'"
      ]
     },
     "execution_count": 50,
     "metadata": {},
     "output_type": "execute_result"
    }
   ],
   "source": [
    "#10) s = \"salam-dunya\" yaradın. \"-\"ni boşluqla əvəz edin və nəticəni çap edin.\n",
    "\n",
    "s = \"salam-dunya\"\n",
    "s = s.replace(\"-\", \" \")\n",
    "s"
   ]
  },
  {
   "cell_type": "markdown",
   "id": "daade8e3",
   "metadata": {},
   "source": [
    "### Sprint_2a_task"
   ]
  },
  {
   "cell_type": "code",
   "execution_count": null,
   "id": "f3e44519",
   "metadata": {},
   "outputs": [],
   "source": [
    "#Sprint_2a_task"
   ]
  },
  {
   "cell_type": "code",
   "execution_count": null,
   "id": "8f36f7fb",
   "metadata": {},
   "outputs": [
    {
     "data": {
      "text/plain": [
       "[5, 10, 15, 20]"
      ]
     },
     "execution_count": 51,
     "metadata": {},
     "output_type": "execute_result"
    }
   ],
   "source": [
    "#1) 5, 10, 15, 20 rəqəmlərindən ibarət “rəqəmlər” adlı list/vector yaradın\n",
    "\n",
    "rəqəmlər = [5, 10, 15, 20]\n",
    "rəqəmlər"
   ]
  },
  {
   "cell_type": "code",
   "execution_count": null,
   "id": "f5d9a614",
   "metadata": {},
   "outputs": [
    {
     "data": {
      "text/plain": [
       "4"
      ]
     },
     "execution_count": 52,
     "metadata": {},
     "output_type": "execute_result"
    }
   ],
   "source": [
    "#2) “rəqəmlər” listinin/vectorunun uzunluğunu tapın\n",
    "\n",
    "len(rəqəmlər)"
   ]
  },
  {
   "cell_type": "code",
   "execution_count": null,
   "id": "90eb5a9c",
   "metadata": {},
   "outputs": [
    {
     "data": {
      "text/plain": [
       "[5, 10, 15, 20, 25, 25]"
      ]
     },
     "execution_count": 54,
     "metadata": {},
     "output_type": "execute_result"
    }
   ],
   "source": [
    "#3) “rəqəmlər” listinə/vectoruna 25 elementini əlavə edin\n",
    "\n",
    "rəqəmlər.append(25)\n",
    "rəqəmlər"
   ]
  },
  {
   "cell_type": "code",
   "execution_count": null,
   "id": "0e90c4b4",
   "metadata": {},
   "outputs": [
    {
     "data": {
      "text/plain": [
       "[5, 10, 12, 15, 20, 25, 25]"
      ]
     },
     "execution_count": 56,
     "metadata": {},
     "output_type": "execute_result"
    }
   ],
   "source": [
    "#4) “rəqəmlər” listinin/vectorunun 2-ci indeksinə 12 elementini əlavə edin\n",
    "\n",
    "rəqəmlər.insert(2,12)\n",
    "rəqəmlər"
   ]
  },
  {
   "cell_type": "code",
   "execution_count": null,
   "id": "d6c99970",
   "metadata": {},
   "outputs": [
    {
     "data": {
      "text/plain": [
       "[1, 2, 3, 4, 5, 6]"
      ]
     },
     "execution_count": 57,
     "metadata": {},
     "output_type": "execute_result"
    }
   ],
   "source": [
    "#5) 1, 2, 3 və 4, 5, 6 listlərini/vectorlarını birləşdirin\n",
    "\n",
    "List_1 = [1, 2, 3]\n",
    "List_2 = [4, 5, 6]\n",
    "\n",
    "Full_list = List_1 + List_2\n",
    "Full_list"
   ]
  },
  {
   "cell_type": "code",
   "execution_count": null,
   "id": "50586a29",
   "metadata": {},
   "outputs": [
    {
     "data": {
      "text/plain": [
       "[10, 12]"
      ]
     },
     "execution_count": 60,
     "metadata": {},
     "output_type": "execute_result"
    }
   ],
   "source": [
    "#6) “rəqəmlər” listindən/vectorundan 2-ci və 3-cü elementləri seçin\n",
    "\n",
    "rəqəmlər[1:3]"
   ]
  },
  {
   "cell_type": "code",
   "execution_count": null,
   "id": "ea6f8495",
   "metadata": {},
   "outputs": [
    {
     "data": {
      "text/plain": [
       "[50, 10, 12, 15, 20, 25, 25]"
      ]
     },
     "execution_count": 62,
     "metadata": {},
     "output_type": "execute_result"
    }
   ],
   "source": [
    "#7) “rəqəmlər” listinin/vectorunun ilk elementini 50 ilə əvəz edin \n",
    "\n",
    "rəqəmlər[0] = 50\n",
    "rəqəmlər"
   ]
  },
  {
   "cell_type": "code",
   "execution_count": null,
   "id": "9354b981",
   "metadata": {},
   "outputs": [
    {
     "name": "stdout",
     "output_type": "stream",
     "text": [
      "False\n"
     ]
    }
   ],
   "source": [
    "#8) “rəqəmlər” listində/vectorunda 19 elementinin olub-olmadığını yoxlayın\n",
    "\n",
    "if 19 in rəqəmlər:\n",
    "    print(True)\n",
    "else:\n",
    "    print(False)\n"
   ]
  },
  {
   "cell_type": "code",
   "execution_count": null,
   "id": "d6077806",
   "metadata": {},
   "outputs": [
    {
     "data": {
      "text/plain": [
       "2"
      ]
     },
     "execution_count": 67,
     "metadata": {},
     "output_type": "execute_result"
    }
   ],
   "source": [
    "#9) \"a\", \"b\", \"a\", \"c\" listində/vectorunda \"a\" elementinin neçə dəfə təkrarlandığını tapın\n",
    "\n",
    "Letters = [\"a\", \"b\", \"a\", \"c\"]\n",
    "\n",
    "Letters.count(\"a\")"
   ]
  },
  {
   "cell_type": "code",
   "execution_count": null,
   "id": "e9c77913",
   "metadata": {},
   "outputs": [
    {
     "data": {
      "text/plain": [
       "['y', 'z']"
      ]
     },
     "execution_count": 71,
     "metadata": {},
     "output_type": "execute_result"
    }
   ],
   "source": [
    "#10) \"x\", \"y\", \"x\", \"z\" listindən/vectorundan \"x\" elementlərini silin\n",
    "\n",
    "Letters_2 = [\"x\", \"y\", \"x\", \"z\"]\n",
    "\n",
    "while 'x' in Letters_2:\n",
    "    Letters_2.remove('x')\n",
    "    \n",
    "Letters_2"
   ]
  },
  {
   "cell_type": "code",
   "execution_count": null,
   "id": "b20f1b7a",
   "metadata": {},
   "outputs": [
    {
     "data": {
      "text/plain": [
       "[9, 7, 2, 1]"
      ]
     },
     "execution_count": 78,
     "metadata": {},
     "output_type": "execute_result"
    }
   ],
   "source": [
    "#11) 7, 2, 9, 1 listini/vectorunu azalan sırayla sıralayın\n",
    "\n",
    "Nums = [7, 2, 9, 1]\n",
    "sorted_Nums = sorted(Nums, reverse=True)\n",
    "sorted_Nums\n"
   ]
  },
  {
   "cell_type": "code",
   "execution_count": null,
   "id": "2c496e53",
   "metadata": {},
   "outputs": [
    {
     "data": {
      "text/plain": [
       "[50, 12, 15, 20, 25, 25]"
      ]
     },
     "execution_count": 80,
     "metadata": {},
     "output_type": "execute_result"
    }
   ],
   "source": [
    "#12) “rəqəmlər” listindən/vectorundan 10-dan böyük elementləri seçin\n",
    "\n",
    "Empty_list = []\n",
    "i = 0\n",
    "\n",
    "for i in rəqəmlər:\n",
    "    if i > 10:\n",
    "        Empty_list.append(i)\n",
    "\n",
    "Empty_list"
   ]
  },
  {
   "cell_type": "markdown",
   "id": "4348d0b1",
   "metadata": {},
   "source": [
    "### Sprint_2b_task"
   ]
  },
  {
   "cell_type": "code",
   "execution_count": null,
   "id": "4e90c411",
   "metadata": {},
   "outputs": [],
   "source": [
    "#Sprint_2b_task"
   ]
  },
  {
   "cell_type": "code",
   "execution_count": null,
   "id": "da2349ce",
   "metadata": {},
   "outputs": [
    {
     "data": {
      "text/plain": [
       "0    10\n",
       "1    20\n",
       "2    30\n",
       "3    40\n",
       "dtype: int64"
      ]
     },
     "execution_count": 23,
     "metadata": {},
     "output_type": "execute_result"
    }
   ],
   "source": [
    "#1) 10, 20, 30, 40 elementlərindən ibarət s1 adlı series/vector yaradın\n",
    "import pandas as pd\n",
    "\n",
    "s1 = pd.Series([10, 20, 30, 40])\n",
    "\n",
    "s1"
   ]
  },
  {
   "cell_type": "code",
   "execution_count": null,
   "id": "a553517b",
   "metadata": {},
   "outputs": [
    {
     "data": {
      "text/plain": [
       "w    10\n",
       "x    20\n",
       "y    30\n",
       "z    40\n",
       "dtype: int64"
      ]
     },
     "execution_count": 24,
     "metadata": {},
     "output_type": "execute_result"
    }
   ],
   "source": [
    "#2) s1-ə 'w', 'x', 'y', 'z' indekslərini təyin edin\n",
    "\n",
    "#Sual tam aydın olmadı\n",
    "import pandas as pd\n",
    "\n",
    "s1.index = ['w', 'x', 'y', 'z']\n",
    "\n",
    "s1"
   ]
  },
  {
   "cell_type": "code",
   "execution_count": null,
   "id": "f2010114",
   "metadata": {},
   "outputs": [
    {
     "data": {
      "text/plain": [
       "p     5\n",
       "q    10\n",
       "r    15\n",
       "dtype: int64"
      ]
     },
     "execution_count": 5,
     "metadata": {},
     "output_type": "execute_result"
    }
   ],
   "source": [
    "#3) Python: {'p': 5, 'q': 10, 'r': 15} dictionary-dən s2 adlı Series yaradın\n",
    "\n",
    "import pandas as pd\n",
    "\n",
    "Python = {'p': 5, 'q': 10, 'r': 15}\n",
    "s2 = pd.Series(Python)\n",
    "\n",
    "s2\n"
   ]
  },
  {
   "cell_type": "code",
   "execution_count": null,
   "id": "1d0f817e",
   "metadata": {},
   "outputs": [
    {
     "data": {
      "text/plain": [
       "10"
      ]
     },
     "execution_count": 7,
     "metadata": {},
     "output_type": "execute_result"
    }
   ],
   "source": [
    "#4) s2-dən 'q' indeksli elementi seçin\n",
    "\n",
    "s2[\"q\"]"
   ]
  },
  {
   "cell_type": "code",
   "execution_count": null,
   "id": "3cb32268",
   "metadata": {},
   "outputs": [
    {
     "name": "stdout",
     "output_type": "stream",
     "text": [
      "30\n",
      "40\n"
     ]
    }
   ],
   "source": [
    "#5) s1-dən 25-dən böyük elementləri seçin\n",
    "\n",
    "for i in s1:\n",
    "    if i > 25:\n",
    "        print(i)"
   ]
  },
  {
   "cell_type": "code",
   "execution_count": null,
   "id": "fb2c4a4e",
   "metadata": {},
   "outputs": [
    {
     "data": {
      "text/plain": [
       "[3.0, 4.0]"
      ]
     },
     "execution_count": 11,
     "metadata": {},
     "output_type": "execute_result"
    }
   ],
   "source": [
    "#6) s1-də 20-dən böyük elementləri 10-a bölün \n",
    "\n",
    "emp_list = []\n",
    "\n",
    "for i in s1:\n",
    "    if i > 20:\n",
    "        emp_list.append(i/10)\n",
    "\n",
    "emp_list"
   ]
  },
  {
   "cell_type": "code",
   "execution_count": null,
   "id": "f59e6f3e",
   "metadata": {},
   "outputs": [
    {
     "data": {
      "text/html": [
       "<div>\n",
       "<style scoped>\n",
       "    .dataframe tbody tr th:only-of-type {\n",
       "        vertical-align: middle;\n",
       "    }\n",
       "\n",
       "    .dataframe tbody tr th {\n",
       "        vertical-align: top;\n",
       "    }\n",
       "\n",
       "    .dataframe thead th {\n",
       "        text-align: right;\n",
       "    }\n",
       "</style>\n",
       "<table border=\"1\" class=\"dataframe\">\n",
       "  <thead>\n",
       "    <tr style=\"text-align: right;\">\n",
       "      <th></th>\n",
       "      <th>0</th>\n",
       "      <th>1</th>\n",
       "    </tr>\n",
       "  </thead>\n",
       "  <tbody>\n",
       "    <tr>\n",
       "      <th>0</th>\n",
       "      <td>1</td>\n",
       "      <td>2</td>\n",
       "    </tr>\n",
       "    <tr>\n",
       "      <th>1</th>\n",
       "      <td>3</td>\n",
       "      <td>4</td>\n",
       "    </tr>\n",
       "  </tbody>\n",
       "</table>\n",
       "</div>"
      ],
      "text/plain": [
       "   0  1\n",
       "0  1  2\n",
       "1  3  4"
      ]
     },
     "execution_count": 12,
     "metadata": {},
     "output_type": "execute_result"
    }
   ],
   "source": [
    "#7) ((1, 2), (3, 4)) listindən/vectorundan df1 adlı dataframe yaradın\n",
    "\n",
    "import pandas as pd\n",
    "\n",
    "MyList = [(1, 2), (3, 4)]\n",
    "\n",
    "df1 = pd.DataFrame(MyList)\n",
    "\n",
    "df1"
   ]
  },
  {
   "cell_type": "code",
   "execution_count": null,
   "id": "9145bc09",
   "metadata": {},
   "outputs": [
    {
     "data": {
      "text/html": [
       "<div>\n",
       "<style scoped>\n",
       "    .dataframe tbody tr th:only-of-type {\n",
       "        vertical-align: middle;\n",
       "    }\n",
       "\n",
       "    .dataframe tbody tr th {\n",
       "        vertical-align: top;\n",
       "    }\n",
       "\n",
       "    .dataframe thead th {\n",
       "        text-align: right;\n",
       "    }\n",
       "</style>\n",
       "<table border=\"1\" class=\"dataframe\">\n",
       "  <thead>\n",
       "    <tr style=\"text-align: right;\">\n",
       "      <th></th>\n",
       "      <th>c1</th>\n",
       "      <th>c2</th>\n",
       "    </tr>\n",
       "  </thead>\n",
       "  <tbody>\n",
       "    <tr>\n",
       "      <th>r1</th>\n",
       "      <td>1</td>\n",
       "      <td>2</td>\n",
       "    </tr>\n",
       "    <tr>\n",
       "      <th>r2</th>\n",
       "      <td>3</td>\n",
       "      <td>4</td>\n",
       "    </tr>\n",
       "  </tbody>\n",
       "</table>\n",
       "</div>"
      ],
      "text/plain": [
       "    c1  c2\n",
       "r1   1   2\n",
       "r2   3   4"
      ]
     },
     "execution_count": 13,
     "metadata": {},
     "output_type": "execute_result"
    }
   ],
   "source": [
    "#8) df1-ə ('r1', 'r2') sətir və ('c1', 'c2') sütun adlarını təyin edin\n",
    "\n",
    "df1.index = ['r1', 'r2']\n",
    "df1.columns = ['c1', 'c2']\n",
    "\n",
    "df1"
   ]
  },
  {
   "cell_type": "code",
   "execution_count": null,
   "id": "40165070",
   "metadata": {},
   "outputs": [
    {
     "data": {
      "text/html": [
       "<div>\n",
       "<style scoped>\n",
       "    .dataframe tbody tr th:only-of-type {\n",
       "        vertical-align: middle;\n",
       "    }\n",
       "\n",
       "    .dataframe tbody tr th {\n",
       "        vertical-align: top;\n",
       "    }\n",
       "\n",
       "    .dataframe thead th {\n",
       "        text-align: right;\n",
       "    }\n",
       "</style>\n",
       "<table border=\"1\" class=\"dataframe\">\n",
       "  <thead>\n",
       "    <tr style=\"text-align: right;\">\n",
       "      <th></th>\n",
       "      <th>A</th>\n",
       "      <th>B</th>\n",
       "    </tr>\n",
       "  </thead>\n",
       "  <tbody>\n",
       "    <tr>\n",
       "      <th>0</th>\n",
       "      <td>1</td>\n",
       "      <td>3</td>\n",
       "    </tr>\n",
       "    <tr>\n",
       "      <th>1</th>\n",
       "      <td>2</td>\n",
       "      <td>4</td>\n",
       "    </tr>\n",
       "  </tbody>\n",
       "</table>\n",
       "</div>"
      ],
      "text/plain": [
       "   A  B\n",
       "0  1  3\n",
       "1  2  4"
      ]
     },
     "execution_count": 14,
     "metadata": {},
     "output_type": "execute_result"
    }
   ],
   "source": [
    "#9) Python: {'A': [1, 2], 'B': [3, 4]} dictionary-dən df2 yaradın\n",
    "\n",
    "Python2 = {'A': [1, 2], 'B': [3, 4]}\n",
    "df2 = pd.DataFrame( Python2 )\n",
    "df2"
   ]
  },
  {
   "cell_type": "code",
   "execution_count": null,
   "id": "013fec55",
   "metadata": {},
   "outputs": [
    {
     "data": {
      "text/html": [
       "<div>\n",
       "<style scoped>\n",
       "    .dataframe tbody tr th:only-of-type {\n",
       "        vertical-align: middle;\n",
       "    }\n",
       "\n",
       "    .dataframe tbody tr th {\n",
       "        vertical-align: top;\n",
       "    }\n",
       "\n",
       "    .dataframe thead th {\n",
       "        text-align: right;\n",
       "    }\n",
       "</style>\n",
       "<table border=\"1\" class=\"dataframe\">\n",
       "  <thead>\n",
       "    <tr style=\"text-align: right;\">\n",
       "      <th></th>\n",
       "      <th>A</th>\n",
       "      <th>B</th>\n",
       "    </tr>\n",
       "  </thead>\n",
       "  <tbody>\n",
       "    <tr>\n",
       "      <th>1</th>\n",
       "      <td>2</td>\n",
       "      <td>4</td>\n",
       "    </tr>\n",
       "  </tbody>\n",
       "</table>\n",
       "</div>"
      ],
      "text/plain": [
       "   A  B\n",
       "1  2  4"
      ]
     },
     "execution_count": 15,
     "metadata": {},
     "output_type": "execute_result"
    }
   ],
   "source": [
    "#10) df2-də 'A' sütunu 1-dən böyük olan sətirləri seçin\n",
    "\n",
    "df2.loc[df2['A'] > 1]"
   ]
  }
 ],
 "metadata": {
  "kernelspec": {
   "display_name": "base",
   "language": "python",
   "name": "python3"
  },
  "language_info": {
   "codemirror_mode": {
    "name": "ipython",
    "version": 3
   },
   "file_extension": ".py",
   "mimetype": "text/x-python",
   "name": "python",
   "nbconvert_exporter": "python",
   "pygments_lexer": "ipython3",
   "version": "3.12.7"
  }
 },
 "nbformat": 4,
 "nbformat_minor": 5
}
